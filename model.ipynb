{
 "cells": [
  {
   "cell_type": "code",
   "execution_count": 1,
   "metadata": {},
   "outputs": [],
   "source": [
    "from flask import Flask, render_template, request\n",
    "import torch\n",
    "from PIL import Image\n",
    "import torch.nn as nn\n",
    "import torchvision.transforms as transforms"
   ]
  },
  {
   "cell_type": "code",
   "execution_count": 2,
   "metadata": {},
   "outputs": [],
   "source": [
    "import torch.nn as nn\n",
    "\n",
    "\n",
    "# We will import some builtin methods from nn.Module class\n",
    "\n",
    "# We'll use `nn.Sequential` to chain the layers and activations functions into a single network architecture.\n",
    "\n",
    "class Cifar10CnnModel(nn.Module):\n",
    "    def __init__(self):\n",
    "        super().__init__()\n",
    "        self.network = nn.Sequential(\n",
    "            # input: 3 x 32 x 32\n",
    "            nn.Conv2d(3, 32, kernel_size=3, padding=1),\n",
    "            # output : 32 x 32 x 32\n",
    "            nn.ReLU(),\n",
    "            # output : 32 x 32 x 32\n",
    "            nn.Conv2d(32, 64, kernel_size=3, stride=1, padding=1),\n",
    "            # output : 64 x 32 x 32\n",
    "            nn.ReLU(),\n",
    "            # output : 64 x 32 x 32\n",
    "            nn.MaxPool2d(2, 2), # output: 64 x 16 x 16\n",
    "\n",
    "            nn.Conv2d(64, 128, kernel_size=3, stride=1, padding=1),\n",
    "            # output: 128 x 16 x 16\n",
    "            nn.ReLU(),\n",
    "            # output: 128 x 16 x 16\n",
    "            nn.Conv2d(128, 128, kernel_size=3, stride=1, padding=1),\n",
    "            # output: 128 x 16 x 16\n",
    "            nn.ReLU(),\n",
    "            # output: 128 x 16 x 16\n",
    "            nn.MaxPool2d(2, 2), # output: 128 x 8 x 8\n",
    "\n",
    "            nn.Conv2d(128, 256, kernel_size=3, stride=1, padding=1),\n",
    "            # output: 256 x 8 x 8\n",
    "            nn.ReLU(),\n",
    "            # output: 256 x 8 x 8\n",
    "            nn.Conv2d(256, 256, kernel_size=3, stride=1, padding=1),\n",
    "            # output: 256 x 8 x 8\n",
    "            nn.ReLU(),\n",
    "            # output: 256 x 8 x 8\n",
    "            nn.MaxPool2d(2, 2), # output: 256 x 4 x 4\n",
    "\n",
    "            nn.Flatten(),\n",
    "            # This will converts into the vector form\n",
    "            nn.Linear(256*4*4, 1024),\n",
    "            nn.ReLU(),\n",
    "            nn.Linear(1024, 512),\n",
    "            nn.ReLU(),\n",
    "            nn.Linear(512, 10))\n",
    "\n",
    "    def forward(self, xb):\n",
    "        return self.network(xb)"
   ]
  },
  {
   "cell_type": "code",
   "execution_count": 4,
   "metadata": {},
   "outputs": [],
   "source": [
    "model = Cifar10CnnModel()\n",
    "model.load_state_dict(torch.load('cifar10_model.pth',weights_only=True))\n",
    "model.eval()\n",
    "\n",
    "\n",
    "\n",
    "# Define image transformations\n",
    "transform = transforms.Compose([\n",
    "    transforms.Resize((32, 32)),  # Resize to fit the model input size\n",
    "    transforms.Lambda(lambda x: x.convert('RGB')),  # Convert to RGB format\n",
    "    transforms.ToTensor(),  # Convert PIL image to tensor\n",
    "])"
   ]
  },
  {
   "cell_type": "code",
   "execution_count": 5,
   "metadata": {},
   "outputs": [
    {
     "name": "stdout",
     "output_type": "stream",
     "text": [
      "Predicted class: dog\n"
     ]
    }
   ],
   "source": [
    "classes = ['airplane', 'car', 'bird', 'cat', 'deer', 'dog', 'frog', 'horse', 'ship', 'truck']\n",
    "image_path = '/workspaces/codespaces-jupyter/cat2.jpg'  # Replace with your image path\n",
    "image = Image.open(image_path)\n",
    "image_tensor = transform(image).unsqueeze(0)  # Add batch dimension\n",
    "\n",
    "\n",
    "        # Perform inference\n",
    "with torch.no_grad():\n",
    "  outputs = model(image_tensor)\n",
    "\n",
    "          # Interpret the results\n",
    "  _, predicted = torch.max(outputs, 1)\n",
    "  predicted_class = classes[predicted.item()]\n",
    "  print(f\"Predicted class: {predicted_class}\")"
   ]
  },
  {
   "cell_type": "code",
   "execution_count": null,
   "metadata": {},
   "outputs": [],
   "source": []
  }
 ],
 "metadata": {
  "kernelspec": {
   "display_name": "Python 3",
   "language": "python",
   "name": "python3"
  },
  "language_info": {
   "codemirror_mode": {
    "name": "ipython",
    "version": 3
   },
   "file_extension": ".py",
   "mimetype": "text/x-python",
   "name": "python",
   "nbconvert_exporter": "python",
   "pygments_lexer": "ipython3",
   "version": "3.12.1"
  }
 },
 "nbformat": 4,
 "nbformat_minor": 2
}
